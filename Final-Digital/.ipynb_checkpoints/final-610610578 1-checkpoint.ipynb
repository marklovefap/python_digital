{
 "cells": [
  {
   "cell_type": "markdown",
   "id": "d5ed8f9d",
   "metadata": {},
   "source": [
    "# Final Examination - Programming\n",
    "\n",
    "### ชื่อ-สกุล : ชุติพนธ์ วิมลกาญจนา\n",
    "\n",
    "### รหัส นศ. : 610610578\n",
    "\n",
    "(double click to edit your information)"
   ]
  },
  {
   "cell_type": "markdown",
   "id": "f5cd2dde",
   "metadata": {},
   "source": [
    "## ให้ นศ. เปลี่ยนชื่อไฟล์นี้ให้อยู่ในรูปแบบ \"*final-[Student ID]*\" เช่น final-630610999.ipynb\n",
    "\n",
    "## ส่งคำตอบภายในวันจันทร์ที่ 25 ตุลาคม เวลา 22.00 น."
   ]
  },
  {
   "cell_type": "markdown",
   "id": "c2a2484a",
   "metadata": {},
   "source": [
    "## 1. พัฒนาโปรแกรมสำหรับการประมวลผลตามกระบวนการในคำถามข้อ 3. (ของข้อเขียน)\n",
    "\n",
    "- พัฒนาฟังก์ชันสำหรับแต่ละขั้นตอนแยกจากกัน โดยแต่ละฟังก์ชันควรคืนค่าเป็นผลลัพธ์ของแต่ละขั้นตอน (กรุณาแยกโค้ดของแต่ละฟังก์ชันออกให้อยู่คนละ code cell เพื่อให้สะดวกในการตรวจ)\n",
    " - กำหนดให้บล็อกข้อมูลที่รับเป็นอินพุตของขั้นตอนแรกจะมีขนาดเป็น **Square-matrix** เสมอ\n",
    " - ผู้ใช้สามารถกำหนดค่า **Q** สำหรับการทำ quantization ได้\n",
    "- มีโค้ดในการเรียกใช้ฟังก์ชันต่าง ๆ ที่ได้พัฒนา เพื่อทดสอบการทำงานโดยใช้ตัวอย่างข้อมูลจากข้อ 3. และตัวอย่างอื่น ๆ เพิ่มเติม (กรุณาแยกโค้ดในการทดสอบแต่ละฟังกชันให้อยู่คนละ code cell เพื่อให้สะดวกในการตรวจ)\n",
    "- สามารถแทรก code cell เพิ่มเติมได้ตามสะดวก\n",
    "- สามารถแทรกคำอธิบายการทำงานของโค้ดในลักษณะ Python comment หรือใช้ markdown cell เพิ่มเติมตามแต่ต้องการ\n",
    "- <ins>ไม่อนุญาตให้ใช้งาน Python library ภายนอกอื่นใดนอกเหนือจากที่กล่าวถึงในการเรียน</ins>"
   ]
  },
  {
   "cell_type": "code",
   "execution_count": null,
   "id": "6d2b0aa6",
   "metadata": {},
   "outputs": [],
   "source": [
    "รับ Input ด้วย Squre-matrix + (ตัวอย่าง frequency domain ตามข้อเขียน) ทดลองเเล้วกับตัวอย่างในข้อเขียน"
   ]
  },
  {
   "cell_type": "code",
   "execution_count": 3,
   "id": "9486d962",
   "metadata": {
    "scrolled": true
   },
   "outputs": [
    {
     "name": "stdout",
     "output_type": "stream",
     "text": [
      "Enter the number of rows: 3\n",
      "Enter the number of columns: 3\n",
      "Enter Numbers: \n",
      "5\n",
      "2\n",
      "5\n",
      "4\n",
      "5\n",
      "1\n",
      "5\n",
      "6\n",
      "2\n",
      "Show Matrix: \n",
      "5 2 5 \n",
      "4 5 1 \n",
      "5 6 2 \n"
     ]
    }
   ],
   "source": [
    "\n",
    "  \n",
    "Roll = int(input(\"Enter the number of rows: \")) \n",
    "Coll = int(input(\"Enter the number of columns: \")) \n",
    "  \n",
    "\n",
    "Matrix = [] \n",
    "print(\"Enter Numbers: \") \n",
    "  \n",
    "\n",
    "for i in range(Roll):          \n",
    "    a =[] \n",
    "    for j in range(Coll):     \n",
    "         a.append(int(input())) \n",
    "    Matrix.append(a) \n",
    "  \n",
    "print(\"Show Matrix: \")\n",
    "\n",
    "for i in range(Roll): \n",
    "    for j in range(Coll): \n",
    "        print(Matrix[i][j], end = \" \") \n",
    "    print()"
   ]
  },
  {
   "cell_type": "markdown",
   "id": "c563376c",
   "metadata": {},
   "source": [
    "# ทํา Quantization ด้วนการรับค่าจากผู้ใช้"
   ]
  },
  {
   "cell_type": "code",
   "execution_count": 4,
   "id": "86e6d823",
   "metadata": {},
   "outputs": [
    {
     "name": "stdout",
     "output_type": "stream",
     "text": [
      "Enter Quantization(Q) Value: 2\n"
     ]
    }
   ],
   "source": [
    "Q = int(input(\"Enter Quantization(Q) Value: \"))\n",
    "for i in range (len(Matrix)) :\n",
    "    for j in range (len(Matrix[i])) :\n",
    "        Matrix[i][j] = ((Matrix[i][j])/Q)"
   ]
  },
  {
   "cell_type": "code",
   "execution_count": null,
   "id": "1209142b",
   "metadata": {},
   "outputs": [],
   "source": [
    "อ่านค่า Matrix ที่ Quantize เสร็จเเล้ว เเบบ Zig-Zag"
   ]
  },
  {
   "cell_type": "code",
   "execution_count": 5,
   "id": "aefde619",
   "metadata": {},
   "outputs": [
    {
     "name": "stdout",
     "output_type": "stream",
     "text": [
      "2.5 1.0 2.0 2.5 2.5 2.5 0.5 3.0 1.0 "
     ]
    }
   ],
   "source": [
    "matrix = Matrix\n",
    "rows=Roll\n",
    "columns=Coll\n",
    "   \n",
    "solv=[[] for i in range(rows+columns-1)]\n",
    " \n",
    "for i in range(rows):\n",
    "    for j in range(columns):\n",
    "        sum=i+j\n",
    "        if(sum%2 ==0):\n",
    " \n",
    "            \n",
    "            solv[sum].insert(0,matrix[i][j])\n",
    "        else:\n",
    " \n",
    "            \n",
    "            solv[sum].append(matrix[i][j])\n",
    "         \n",
    "             \n",
    "for i in solv:\n",
    "    for j in i:\n",
    "        print(j,end=\" \")"
   ]
  },
  {
   "cell_type": "markdown",
   "id": "d6394d3b",
   "metadata": {},
   "source": [
    "## 2. จงพัฒนาโปรแกรมด้วยภาษา Python เพื่อประมวลผลตามกระบวนการในข้อ 4. (ของข้อเขียน)\n",
    "\n",
    "- กำหนดให้อินพุตคือ **macroblock ขนาด 2x2 pixel** และ **reference frame ขนาด 4x4 pixel** เสมอ \n",
    "- กำหนดให้ macroblock ที่จะถูกประมวลผลจะเป็น macroblock ซึ่ง**มี pixel บนซ้ายอยู่ในตำแหน่ง (1,1) เสมอ**\n",
    "- พัฒนาการประมวลผลให้อยู่ในรูปของฟังก์ชัน โดยอาจประกอบขึ้นจากฟังก์ชันย่อยหลาย ๆ อันได้ตามสมควร\n",
    "- มีโค้ดในการเรียกใช้ฟังก์ชันที่ได้พัฒนา เพื่อเป็นการทดสอบการทำงานโดยใช้ข้อมูลตัวอย่างจากข้อ 5. และตัวอย่างอื่น ๆ เพิ่มเติม (กรุณาแยกโค้ดในการทดสอบแต่ละฟังกชันให้อยู่คนละ code cell เพื่อให้สะดวกในการตรวจ)\n",
    "- สามารถแทรก code cell เพิ่มเติมได้ตามสะดวก\n",
    "- สามารถแทรกคำอธิบายการทำงานของโค้ดในลักษณะ Python comment หรือใช้ markdown cell เพิ่มเติมตามแต่ต้องการ\n",
    "- <ins>ไม่อนุญาตให้ใช้งาน Python library ภายนอกอื่นใดนอกเหนือจากที่กล่าวถึงในการเรียน</ins>\n"
   ]
  },
  {
   "cell_type": "code",
   "execution_count": null,
   "id": "6b3efa2a",
   "metadata": {},
   "outputs": [],
   "source": [
    "-"
   ]
  },
  {
   "cell_type": "code",
   "execution_count": null,
   "id": "a8ef8568",
   "metadata": {},
   "outputs": [],
   "source": [
    "-"
   ]
  }
 ],
 "metadata": {
  "kernelspec": {
   "display_name": "Python 3 (ipykernel)",
   "language": "python",
   "name": "python3"
  },
  "language_info": {
   "codemirror_mode": {
    "name": "ipython",
    "version": 3
   },
   "file_extension": ".py",
   "mimetype": "text/x-python",
   "name": "python",
   "nbconvert_exporter": "python",
   "pygments_lexer": "ipython3",
   "version": "3.9.5"
  }
 },
 "nbformat": 4,
 "nbformat_minor": 5
}
