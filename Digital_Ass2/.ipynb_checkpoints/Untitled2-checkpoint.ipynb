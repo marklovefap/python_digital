{
 "cells": [
  {
   "cell_type": "markdown",
   "id": "c7020411",
   "metadata": {},
   "source": [
    "**1.  610610578 ชุติพนธ์ วิมลกาญจนา"
   ]
  },
  {
   "cell_type": "markdown",
   "id": "eea79905",
   "metadata": {},
   "source": [
    "ให้ นศ. สร้าง Python notebook ที่แสดงการบีบอัดข้อมูล DNA sequence โดยใช้ Lossless coding อัลกอริธึมใดก็ได้ที่ นศ.สนใจ\n",
    "\n",
    "การทำงานต้องเป็นไปตามข้อกำหนดต่อไปนี้\n",
    "\n",
    " 1.ตั้งชื่อไฟล์ในรูปแบบ \"a2-dna_compression-รหัสนักศึกษา.ipynb\" และระบุ ชื่อ-สกุล และรหัสนักศึกษาไว้ใน Python notebook ด้วย\n",
    " 2.ผู้ใช้ต้องสามารถพิมพ์/ป้อนข้อมูล sequence ที่ต้องการเข้ารหัสด้วยคีย์บอร์ดได้\n",
    " 3.ส่วนเข้ารหัส (Encoder) - มีความสามารถต่อไปนี้\n",
    "    \n",
    "    3.1คำนวณ Entropy ของ sequence ได้ (2 pts.)\n",
    "    3.2แสดงข้อมูลที่บีบอัดแล้ว (binary หรือ text) ได้ (8 pts.)\n",
    "    3.3แสดงข้อมูลอื่น ๆ ที่จำเป็นต่อการบีบอัดข้อมูล (huffman table, dictionary, ...) ได้ (6 pts.)\n",
    "    3.4คำนวณ Compression Ratio ได้ (2 pts)\n",
    "    3.5คำนวณ Bitrate ได้ (bps: bits per symbol) (2 pts)\n",
    " 4.ส่วนถอดรหัส (Decoder) - มีความสามารถต่อไปนี้\n",
    "    \n",
    "    4.1แสดงข้อมูลที่ถอดรหัสออกมาได้ (8 pts.)\n",
    "    4.2แสดง error rate (%) ได้ (2 pts.)\n",
    " \n",
    " 5.มีคำอธิบายหลักการ ขั้นตอนการทำงาน ผลการทำงานในแต่ละขั้นตอน รวมถึงข้อสรุปด้านต่าง ๆ แทรกอยู่ภายใน Python notebook\n",
    " 6.ห้ามใช้ไลบรารีสำเร็จรูปสำหรับการบีบอัดข้อมูลในการพัฒนา"
   ]
  },
  {
   "cell_type": "markdown",
   "id": "ca73280f",
   "metadata": {},
   "source": [
    "**2.  พิมพ์/ป้อนข้อมูล sequence ที่ต้องการเข้ารหัสด้วยคีย์บอร์ดด้วย input\n",
    "    เก็บข้อมูล sequence"
   ]
  },
  {
   "cell_type": "code",
   "execution_count": 218,
   "id": "5013149b",
   "metadata": {},
   "outputs": [
    {
     "name": "stdout",
     "output_type": "stream",
     "text": [
      "Input DNA Sequences: AATTCCGG\n"
     ]
    }
   ],
   "source": [
    "x=input('Input DNA Sequences: ')\n",
    "dna_seq=x"
   ]
  },
  {
   "cell_type": "markdown",
   "id": "a198b9c1",
   "metadata": {},
   "source": [
    "**3.1  คํานวณหาความยาวของ sequence\n",
    "     คํานวณหาความน่าจะเป็นของ sequence\n",
    "     คำนวณ Entropy ของ sequence"
   ]
  },
  {
   "cell_type": "code",
   "execution_count": 219,
   "id": "694727e4",
   "metadata": {},
   "outputs": [
    {
     "name": "stdout",
     "output_type": "stream",
     "text": [
      "Length DNA sequence =  8\n",
      "The count of 'A' is 2\n",
      "The count of 'T' is 2\n",
      "The count of 'C' is 2\n",
      "The count of 'G' is 2\n",
      "Probability A = 0.25\n",
      "Probability T = 0.25\n",
      "Probability C = 0.25\n",
      "Probability G = 0.25\n",
      "Entropy = 2.0\n"
     ]
    }
   ],
   "source": [
    "from math import log2\n",
    "\n",
    "Length=len(dna_seq)\n",
    "\n",
    "str_countA = dna_seq.count('A')\n",
    "str_countT = dna_seq.count('T')\n",
    "str_countC = dna_seq.count('C')\n",
    "str_countG = dna_seq.count('G')\n",
    "\n",
    "PA = str_countA/Length\n",
    "PT = str_countT/Length\n",
    "PC = str_countC/Length\n",
    "PG = str_countG/Length\n",
    "\n",
    "\n",
    "x=[PA,PT,PC,PG]\n",
    "sum=0\n",
    "\n",
    "for i in range (0,len(x)):\n",
    "    sum += (x[i]*(log2(x[i])))\n",
    "    \n",
    "En = -sum\n",
    "\n",
    "\n",
    "print('Length DNA sequence = ',Length)\n",
    "print(\"The count of 'A' is\", str_countA)\n",
    "print(\"The count of 'T' is\", str_countT)\n",
    "print(\"The count of 'C' is\", str_countC)\n",
    "print(\"The count of 'G' is\", str_countG)\n",
    "\n",
    "\n",
    "print(\"Probability A =\",PA )\n",
    "print(\"Probability T =\",PT )\n",
    "print(\"Probability C =\",PC)\n",
    "print(\"Probability G =\",PG)\n",
    "\n",
    "\n",
    "print(\"Entropy =\",En)\n"
   ]
  },
  {
   "cell_type": "markdown",
   "id": "7de8041e",
   "metadata": {},
   "source": [
    "**3.2  แสดงข้อมูลที่บีบอัดแล้วเเบบ text โดยจัดเก็บข้อมูลของ sequence ด้วย function RLE(seq) เเละเเสดงผล encoding sequence ด้วยการทํา for loop(เนื่องจากมีการเก็บไว้ใน list ซ้อน list จึงต้องวน for loop 2ชั้น)\n",
    "*RLE(seq) เก็บข้อมูลเเบบ list ซ้อน list\n"
   ]
  },
  {
   "cell_type": "code",
   "execution_count": 220,
   "id": "da8e372e",
   "metadata": {},
   "outputs": [
    {
     "name": "stdout",
     "output_type": "stream",
     "text": [
      "DNA Encoding Sequences : A2T2C2G2\n"
     ]
    }
   ],
   "source": [
    "\n",
    "\n",
    "def RLE(seq):\n",
    "  comp_d = []\n",
    "  dracula = 1\n",
    "  char = seq[0]\n",
    "  for i in range(1,len(seq)):\n",
    "    if seq[i] == char:\n",
    "      dracula +=1\n",
    "    else :\n",
    "      comp_d.append([char,dracula])\n",
    "      char = seq[i]\n",
    "      dracula = 1\n",
    "  comp_d.append([char,dracula])\n",
    "  return comp_d\n",
    " \n",
    " \n",
    "\n",
    "\n",
    "comp_data = RLE(dna_seq)\n",
    "\n",
    "compressed_sequences = ''\n",
    " \n",
    "for i in range(0,len(comp_data)):\n",
    "  for j in comp_data[i]:\n",
    "    compressed_sequences += str(j)\n",
    "    \n",
    "\n",
    "\n",
    "\n",
    "\n",
    "\n",
    "\n",
    "\n",
    "\n",
    "print(\"DNA Encoding Sequences :\",compressed_sequences)"
   ]
  },
  {
   "cell_type": "markdown",
   "id": "ec088e84",
   "metadata": {},
   "source": [
    "**3.3  แสดงข้อมูลอื่น ๆ ที่จำเป็นต่อการบีบอัดข้อมูลเเบบ Run-Length-Code ผ่าน RLE(seq) ท่ี่เก็บข้อมูล sequence ไว้อยู่เเล้ว(เก็บในรูปเเบบของ list[list[]])"
   ]
  },
  {
   "cell_type": "code",
   "execution_count": 221,
   "id": "0760806a",
   "metadata": {},
   "outputs": [
    {
     "name": "stdout",
     "output_type": "stream",
     "text": [
      "DNA Encoding Sequences Information : [['A', 2], ['T', 2], ['C', 2], ['G', 2]]\n"
     ]
    }
   ],
   "source": [
    "print(\"DNA Encoding Sequences Information :\",comp_data)"
   ]
  },
  {
   "cell_type": "markdown",
   "id": "6655a127",
   "metadata": {},
   "source": [
    "**3.4  คํานวณขนาดก่อนบีบอัดข้อมูล\n",
    "     คํานวณขนาดหลังบีบอัดข้อมูล\n",
    "     คำนวณ Compression Ratio"
   ]
  },
  {
   "cell_type": "code",
   "execution_count": 222,
   "id": "031fb162",
   "metadata": {},
   "outputs": [
    {
     "name": "stdout",
     "output_type": "stream",
     "text": [
      "Length Of Uncompressed : 8\n",
      "Length Of Compressed : 8\n",
      "Uncompressed Size : 64 bits\n",
      "Compressed Size : 64 bits\n",
      "Compression Ratio : 1.0\n"
     ]
    }
   ],
   "source": [
    "U_S=len(dna_seq)*8\n",
    "C_S=len(compressed_sequences)*8\n",
    "C_R=(U_S/C_S)\n",
    "print(\"Length Of Uncompressed :\",len(dna_seq))\n",
    "print(\"Length Of Compressed :\",len(compressed_sequences))\n",
    "print(\"Uncompressed Size :\",U_S,\"bits\")\n",
    "print(\"Compressed Size :\",C_S,\"bits\")\n",
    "print(\"Compression Ratio :\",C_R)"
   ]
  },
  {
   "cell_type": "markdown",
   "id": "8c651576",
   "metadata": {},
   "source": [
    "**3.5  คำนวณ Bitrate"
   ]
  },
  {
   "cell_type": "code",
   "execution_count": 223,
   "id": "336c10ac",
   "metadata": {},
   "outputs": [
    {
     "name": "stdout",
     "output_type": "stream",
     "text": [
      "Bitrate : 8.0 bps\n"
     ]
    }
   ],
   "source": [
    "bR=(C_S/len(dna_seq))\n",
    "print(\"Bitrate :\",bR,\"bps\")"
   ]
  },
  {
   "cell_type": "markdown",
   "id": "b9464804",
   "metadata": {},
   "source": [
    "**4.1  แสดงข้อมูลที่ถอดรหัสออกมาผ่าน function RLD(compressed_seq) "
   ]
  },
  {
   "cell_type": "code",
   "execution_count": 224,
   "id": "5bce14ce",
   "metadata": {},
   "outputs": [
    {
     "name": "stdout",
     "output_type": "stream",
     "text": [
      "DNA Decoding Sequences : AATTCCGG\n"
     ]
    }
   ],
   "source": [
    "def run_length_decoding(compressed_seq):\n",
    "  seq = ''\n",
    "  for i in range(0,len(compressed_seq)):\n",
    "    if compressed_seq[i].isalpha() == True:\n",
    "      for j in range(int(compressed_seq[i+1])):\n",
    "        seq += compressed_seq[i]\n",
    " \n",
    "  return(seq)\n",
    "\n",
    "\n",
    "decompressed_sequences=(run_length_decoding(compressed_sequences))\n",
    "print(\"DNA Decoding Sequences :\",decompressed_sequences)\n",
    "\n",
    "\n",
    "def run_length_decoding(compressed_seq):\n",
    "  seq = ''\n",
    "  for i in range(0,len(compressed_seq)):\n",
    "    if compressed_seq[i].isalpha() == True:\n",
    "      for j in range(int(compressed_seq[i+1])):\n",
    "        seq += compressed_seq[i]\n",
    " \n",
    "  return(seq)\n",
    "\n",
    "\n"
   ]
  },
  {
   "cell_type": "markdown",
   "id": "fe11432e",
   "metadata": {},
   "source": [
    "**4.2  คํานวณหาค่า error rate"
   ]
  },
  {
   "cell_type": "code",
   "execution_count": 225,
   "id": "5ff0954b",
   "metadata": {},
   "outputs": [
    {
     "name": "stdout",
     "output_type": "stream",
     "text": [
      "Error Count : 0\n",
      "Error Rate : 0.0 %\n"
     ]
    }
   ],
   "source": [
    "dracula = 0\n",
    "for i in range (0,len(dna_seq)):\n",
    "    if(dna_seq[i]!=decompressed_sequences[i]):\n",
    "        dracula+=1\n",
    "\n",
    "print(\"Error Count :\",dracula)\n",
    "eR = (dracula/len(dna_seq))*100\n",
    "print(\"Error Rate :\",eR,\"%\")"
   ]
  },
  {
   "cell_type": "markdown",
   "id": "ea80b559",
   "metadata": {},
   "source": [
    "******เหตุผล เเละ ข้อสรุปของงานชิ้นนี้******\n",
    "การบีบอัดข้อมูลที่ผมเลือกใช้เป็นเเบบ Run-length encoding เนื่องจากเป็นการบีบอัดที่สามารถตรวจสอบความถูกต้องได้ง่าย(คนตรวจสอบว่าเขียน code \n",
    "ถูกไหม) ถ้าเปรียบเทียบกับวิธีการ encode อื่นๆที่จะมีรายละเอียดต่างๆในการบีบอัดที่ยากกว่าทําให้ผมตรวจสอบความถูกต้องได้ยาก อีกทั้งตัวผมยังมั่นใจเเละ\n",
    "ถนัดในวิธี้ที่สุดจึงตัดสินใจเลือกวิธีนี้\n",
    "\n",
    "จากผลลัพธ์ของการใช้วิธีนี้เเสดงให้เห็นถึงความเเม่นยําในการ encode และ decode ข้อมูลไม่มีความผิดพลาดในขั้นตอนใดๆ เเต่ก็มีข้อจํากัดด้านประสิทธิภาพ\n",
    "การบีบอัดข้อมูลให้เห็นเช่น ในตัวอย่าง dna sequence ที่ผมเลือกมาเเสดงนี้จะเห็นได้ชัดว่าข้อมูลไม่ได้มีการบีบอัดลงเลยทําให้เห็นกรณีข้อจํากัดของ \n",
    "Run-length ที่ผมเลือกใช้อย่างชัดเจน"
   ]
  }
 ],
 "metadata": {
  "kernelspec": {
   "display_name": "Python 3 (ipykernel)",
   "language": "python",
   "name": "python3"
  },
  "language_info": {
   "codemirror_mode": {
    "name": "ipython",
    "version": 3
   },
   "file_extension": ".py",
   "mimetype": "text/x-python",
   "name": "python",
   "nbconvert_exporter": "python",
   "pygments_lexer": "ipython3",
   "version": "3.9.5"
  }
 },
 "nbformat": 4,
 "nbformat_minor": 5
}
