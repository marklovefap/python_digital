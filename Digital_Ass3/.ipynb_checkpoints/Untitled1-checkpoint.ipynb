{
 "cells": [
  {
   "cell_type": "code",
   "execution_count": 1,
   "id": "e122546f",
   "metadata": {},
   "outputs": [],
   "source": [
    "import cv2\n",
    "import numpy as np\n",
    "from scipy import fftpack as fft\n",
    "import matplotlib.pyplot as plt\n",
    "%matplotlib inline"
   ]
  },
  {
   "cell_type": "code",
   "execution_count": 2,
   "id": "6d4845f9",
   "metadata": {},
   "outputs": [
    {
     "name": "stdout",
     "output_type": "stream",
     "text": [
      "[[34 23 33 ... 46 54 60]\n",
      " [43 26 39 ... 52 44 36]\n",
      " [39 45 36 ... 46 30 55]\n",
      " ...\n",
      " [53 70 69 ... 48 44 42]\n",
      " [67 71 63 ... 46 44 42]\n",
      " [39 33 31 ... 23 22 21]]\n",
      "(256, 256)\n"
     ]
    }
   ],
   "source": [
    "img = cv2.imread('images/baboon.tif',0)\n",
    "print(img)\n",
    "print(img.shape)"
   ]
  },
  {
   "cell_type": "code",
   "execution_count": 3,
   "id": "43accd84",
   "metadata": {},
   "outputs": [
    {
     "name": "stdout",
     "output_type": "stream",
     "text": [
      "The image heigh is 256, and image width is 256 pixels\n"
     ]
    }
   ],
   "source": [
    "height  = len(img) #one column of image\n",
    "width = len(img[0]) # one row of image\n",
    "sliced = [] # new list for 8x8 sliced image \n",
    "block = 8\n",
    "print(\"The image heigh is \" +str(height)+\", and image width is \"+str(width)+\" pixels\")"
   ]
  },
  {
   "cell_type": "code",
   "execution_count": 4,
   "id": "942b278e",
   "metadata": {},
   "outputs": [
    {
     "name": "stdout",
     "output_type": "stream",
     "text": [
      "Size of the sliced image: 1024\n",
      "Each elemend of sliced list contains a (8, 8) element.\n"
     ]
    }
   ],
   "source": [
    "#dividing 8x8 parts\n",
    "currY = 0 #current Y index\n",
    "for i in range(block,height+1,block):\n",
    "    currX = 0 #current X index\n",
    "    for j in range(block,width+1,block):\n",
    "        sliced.append((img[currY:i,currX:j]))\n",
    "        currX = j\n",
    "    currY = i\n",
    "    \n",
    "print(\"Size of the sliced image: \"+str(len(sliced)))\n",
    "print(\"Each elemend of sliced list contains a \"+ str(sliced[0].shape)+ \" element.\")"
   ]
  },
  {
   "cell_type": "code",
   "execution_count": 12,
   "id": "c6aa5112",
   "metadata": {},
   "outputs": [
    {
     "name": "stdout",
     "output_type": "stream",
     "text": [
      "[[43 46 45 40 38 40 37 37]\n",
      " [45 43 42 37 39 42 38 38]\n",
      " [47 43 43 48 47 45 40 39]\n",
      " [46 44 44 48 50 47 42 38]\n",
      " [49 45 43 48 49 51 45 38]\n",
      " [46 43 36 38 41 48 44 42]\n",
      " [39 41 37 36 41 46 44 42]\n",
      " [19 21 20 20 22 23 22 21]]\n"
     ]
    }
   ],
   "source": [
    "print(sliced[1023])"
   ]
  },
  {
   "cell_type": "code",
   "execution_count": null,
   "id": "da3e3c7e",
   "metadata": {},
   "outputs": [],
   "source": []
  }
 ],
 "metadata": {
  "kernelspec": {
   "display_name": "Python 3 (ipykernel)",
   "language": "python",
   "name": "python3"
  },
  "language_info": {
   "codemirror_mode": {
    "name": "ipython",
    "version": 3
   },
   "file_extension": ".py",
   "mimetype": "text/x-python",
   "name": "python",
   "nbconvert_exporter": "python",
   "pygments_lexer": "ipython3",
   "version": "3.9.5"
  }
 },
 "nbformat": 4,
 "nbformat_minor": 5
}
